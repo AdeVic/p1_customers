{
 "cells": [
  {
   "cell_type": "code",
   "execution_count": 1,
   "id": "e83f238d",
   "metadata": {},
   "outputs": [],
   "source": [
    "import numpy as np\n",
    "import pandas as pd\n",
    "import matplotlib.pyplot as plt\n",
    "import seaborn as sns\n",
    "%matplotlib inline"
   ]
  },
  {
   "cell_type": "code",
   "execution_count": 2,
   "id": "22c8eddd",
   "metadata": {},
   "outputs": [
    {
     "data": {
      "text/html": [
       "<div>\n",
       "<style scoped>\n",
       "    .dataframe tbody tr th:only-of-type {\n",
       "        vertical-align: middle;\n",
       "    }\n",
       "\n",
       "    .dataframe tbody tr th {\n",
       "        vertical-align: top;\n",
       "    }\n",
       "\n",
       "    .dataframe thead th {\n",
       "        text-align: right;\n",
       "    }\n",
       "</style>\n",
       "<table border=\"1\" class=\"dataframe\">\n",
       "  <thead>\n",
       "    <tr style=\"text-align: right;\">\n",
       "      <th></th>\n",
       "      <th>Name</th>\n",
       "      <th>Customer_Segment</th>\n",
       "      <th>Customer_ID</th>\n",
       "      <th>Address</th>\n",
       "      <th>City</th>\n",
       "      <th>State</th>\n",
       "      <th>ZIP</th>\n",
       "      <th>Avg_Sale_Amount</th>\n",
       "      <th>Store_Number</th>\n",
       "      <th>Responded_to_Last_Catalog</th>\n",
       "      <th>Avg_Num_Products_Purchased</th>\n",
       "      <th>#_Years_as_Customer</th>\n",
       "    </tr>\n",
       "  </thead>\n",
       "  <tbody>\n",
       "    <tr>\n",
       "      <th>640</th>\n",
       "      <td>Victoria Reier</td>\n",
       "      <td>Store Mailing List</td>\n",
       "      <td>1854</td>\n",
       "      <td>5111 Preserve Pkwy N</td>\n",
       "      <td>Greenwood Village</td>\n",
       "      <td>CO</td>\n",
       "      <td>80121</td>\n",
       "      <td>124.07</td>\n",
       "      <td>105</td>\n",
       "      <td>Yes</td>\n",
       "      <td>2</td>\n",
       "      <td>6</td>\n",
       "    </tr>\n",
       "    <tr>\n",
       "      <th>131</th>\n",
       "      <td>Brittney Shields</td>\n",
       "      <td>Store Mailing List</td>\n",
       "      <td>364</td>\n",
       "      <td>6451 W 74th Ave</td>\n",
       "      <td>Arvada</td>\n",
       "      <td>CO</td>\n",
       "      <td>80003</td>\n",
       "      <td>86.16</td>\n",
       "      <td>107</td>\n",
       "      <td>No</td>\n",
       "      <td>1</td>\n",
       "      <td>2</td>\n",
       "    </tr>\n",
       "    <tr>\n",
       "      <th>973</th>\n",
       "      <td>Nicole Fennessy</td>\n",
       "      <td>Store Mailing List</td>\n",
       "      <td>2901</td>\n",
       "      <td>17102 E Ford Dr</td>\n",
       "      <td>Aurora</td>\n",
       "      <td>CO</td>\n",
       "      <td>80017</td>\n",
       "      <td>125.83</td>\n",
       "      <td>104</td>\n",
       "      <td>Yes</td>\n",
       "      <td>1</td>\n",
       "      <td>2</td>\n",
       "    </tr>\n",
       "    <tr>\n",
       "      <th>2147</th>\n",
       "      <td>Susan Marcus</td>\n",
       "      <td>Credit Card Only</td>\n",
       "      <td>1967</td>\n",
       "      <td>5641 W 103rd Ave</td>\n",
       "      <td>Westminster</td>\n",
       "      <td>CO</td>\n",
       "      <td>80020</td>\n",
       "      <td>751.52</td>\n",
       "      <td>103</td>\n",
       "      <td>No</td>\n",
       "      <td>5</td>\n",
       "      <td>1</td>\n",
       "    </tr>\n",
       "    <tr>\n",
       "      <th>1418</th>\n",
       "      <td>Kathleen Rice</td>\n",
       "      <td>Loyalty Club Only</td>\n",
       "      <td>685</td>\n",
       "      <td>1342 S Race St</td>\n",
       "      <td>Denver</td>\n",
       "      <td>CO</td>\n",
       "      <td>80210</td>\n",
       "      <td>513.94</td>\n",
       "      <td>105</td>\n",
       "      <td>No</td>\n",
       "      <td>4</td>\n",
       "      <td>7</td>\n",
       "    </tr>\n",
       "    <tr>\n",
       "      <th>2133</th>\n",
       "      <td>Katie Cassady</td>\n",
       "      <td>Credit Card Only</td>\n",
       "      <td>1821</td>\n",
       "      <td>11556 E Center Dr</td>\n",
       "      <td>Aurora</td>\n",
       "      <td>CO</td>\n",
       "      <td>80012</td>\n",
       "      <td>919.52</td>\n",
       "      <td>100</td>\n",
       "      <td>No</td>\n",
       "      <td>17</td>\n",
       "      <td>6</td>\n",
       "    </tr>\n",
       "    <tr>\n",
       "      <th>1669</th>\n",
       "      <td>Michelle Flores</td>\n",
       "      <td>Loyalty Club Only</td>\n",
       "      <td>2026</td>\n",
       "      <td>408 S Carr St</td>\n",
       "      <td>Lakewood</td>\n",
       "      <td>CO</td>\n",
       "      <td>80226</td>\n",
       "      <td>427.79</td>\n",
       "      <td>106</td>\n",
       "      <td>No</td>\n",
       "      <td>3</td>\n",
       "      <td>4</td>\n",
       "    </tr>\n",
       "    <tr>\n",
       "      <th>342</th>\n",
       "      <td>Beth Baker</td>\n",
       "      <td>Store Mailing List</td>\n",
       "      <td>933</td>\n",
       "      <td>6820 W 84th Cir</td>\n",
       "      <td>Arvada</td>\n",
       "      <td>CO</td>\n",
       "      <td>80003</td>\n",
       "      <td>241.17</td>\n",
       "      <td>103</td>\n",
       "      <td>No</td>\n",
       "      <td>1</td>\n",
       "      <td>7</td>\n",
       "    </tr>\n",
       "    <tr>\n",
       "      <th>786</th>\n",
       "      <td>Alicia Jones</td>\n",
       "      <td>Store Mailing List</td>\n",
       "      <td>2318</td>\n",
       "      <td>3456 S Downing St</td>\n",
       "      <td>Englewood</td>\n",
       "      <td>CO</td>\n",
       "      <td>80113</td>\n",
       "      <td>160.84</td>\n",
       "      <td>100</td>\n",
       "      <td>No</td>\n",
       "      <td>1</td>\n",
       "      <td>7</td>\n",
       "    </tr>\n",
       "    <tr>\n",
       "      <th>205</th>\n",
       "      <td>Bernadette Mckale</td>\n",
       "      <td>Store Mailing List</td>\n",
       "      <td>569</td>\n",
       "      <td>2131 S Quentin Way</td>\n",
       "      <td>Aurora</td>\n",
       "      <td>CO</td>\n",
       "      <td>80014</td>\n",
       "      <td>187.93</td>\n",
       "      <td>105</td>\n",
       "      <td>No</td>\n",
       "      <td>1</td>\n",
       "      <td>7</td>\n",
       "    </tr>\n",
       "  </tbody>\n",
       "</table>\n",
       "</div>"
      ],
      "text/plain": [
       "                   Name    Customer_Segment  Customer_ID  \\\n",
       "640      Victoria Reier  Store Mailing List         1854   \n",
       "131    Brittney Shields  Store Mailing List          364   \n",
       "973     Nicole Fennessy  Store Mailing List         2901   \n",
       "2147       Susan Marcus    Credit Card Only         1967   \n",
       "1418      Kathleen Rice   Loyalty Club Only          685   \n",
       "2133      Katie Cassady    Credit Card Only         1821   \n",
       "1669    Michelle Flores   Loyalty Club Only         2026   \n",
       "342          Beth Baker  Store Mailing List          933   \n",
       "786        Alicia Jones  Store Mailing List         2318   \n",
       "205   Bernadette Mckale  Store Mailing List          569   \n",
       "\n",
       "                   Address               City State    ZIP  Avg_Sale_Amount  \\\n",
       "640   5111 Preserve Pkwy N  Greenwood Village    CO  80121           124.07   \n",
       "131        6451 W 74th Ave             Arvada    CO  80003            86.16   \n",
       "973        17102 E Ford Dr             Aurora    CO  80017           125.83   \n",
       "2147      5641 W 103rd Ave        Westminster    CO  80020           751.52   \n",
       "1418        1342 S Race St             Denver    CO  80210           513.94   \n",
       "2133     11556 E Center Dr             Aurora    CO  80012           919.52   \n",
       "1669         408 S Carr St           Lakewood    CO  80226           427.79   \n",
       "342        6820 W 84th Cir             Arvada    CO  80003           241.17   \n",
       "786      3456 S Downing St          Englewood    CO  80113           160.84   \n",
       "205     2131 S Quentin Way             Aurora    CO  80014           187.93   \n",
       "\n",
       "      Store_Number Responded_to_Last_Catalog  Avg_Num_Products_Purchased  \\\n",
       "640            105                       Yes                           2   \n",
       "131            107                        No                           1   \n",
       "973            104                       Yes                           1   \n",
       "2147           103                        No                           5   \n",
       "1418           105                        No                           4   \n",
       "2133           100                        No                          17   \n",
       "1669           106                        No                           3   \n",
       "342            103                        No                           1   \n",
       "786            100                        No                           1   \n",
       "205            105                        No                           1   \n",
       "\n",
       "      #_Years_as_Customer  \n",
       "640                     6  \n",
       "131                     2  \n",
       "973                     2  \n",
       "2147                    1  \n",
       "1418                    7  \n",
       "2133                    6  \n",
       "1669                    4  \n",
       "342                     7  \n",
       "786                     7  \n",
       "205                     7  "
      ]
     },
     "execution_count": 2,
     "metadata": {},
     "output_type": "execute_result"
    }
   ],
   "source": [
    "cust_df = pd.read_excel('./Dataset/p1-customers.xlsx')\n",
    "cust_df.sample(10)"
   ]
  },
  {
   "cell_type": "code",
   "execution_count": 5,
   "id": "dd241bad",
   "metadata": {},
   "outputs": [
    {
     "data": {
      "text/plain": [
       "CO    2375\n",
       "Name: State, dtype: int64"
      ]
     },
     "execution_count": 5,
     "metadata": {},
     "output_type": "execute_result"
    }
   ],
   "source": [
    "cust_df.State.value_counts()"
   ]
  },
  {
   "cell_type": "code",
   "execution_count": 6,
   "id": "433b762d",
   "metadata": {
    "scrolled": true
   },
   "outputs": [
    {
     "data": {
      "text/plain": [
       "Jennifer Davis      2\n",
       "Linda Smith         2\n",
       "Maria Gonzalez      2\n",
       "Jessie Ives         2\n",
       "Elizabeth Harris    2\n",
       "Rebecca Jones       2\n",
       "Lynn Pacheco        2\n",
       "Kelly Carlson       2\n",
       "Jane Nelson         2\n",
       "Erin Underwood      1\n",
       "Chris Newberry      1\n",
       "Pamela Geist        1\n",
       "Jessica Paulus      1\n",
       "Delores Vellinga    1\n",
       "Jean Vanhoutte      1\n",
       "Name: Name, dtype: int64"
      ]
     },
     "execution_count": 6,
     "metadata": {},
     "output_type": "execute_result"
    }
   ],
   "source": [
    "# check to see if there are some customers that buys a lot \n",
    "cust_df.Name.value_counts().head(15)"
   ]
  },
  {
   "cell_type": "code",
   "execution_count": 11,
   "id": "ffdeec7d",
   "metadata": {},
   "outputs": [],
   "source": [
    "# Chech to see if there is duplicated value in the dataset\n",
    "assert cust_df.duplicated().sum() == 0"
   ]
  },
  {
   "cell_type": "code",
   "execution_count": 31,
   "id": "d73fad86",
   "metadata": {},
   "outputs": [],
   "source": [
    "# Check to see if there is any null value in any of the rows\n",
    "assert cust_df.isnull().any(axis=1).sum() == 0"
   ]
  },
  {
   "cell_type": "code",
   "execution_count": 12,
   "id": "ed86366f",
   "metadata": {},
   "outputs": [
    {
     "data": {
      "text/plain": [
       "Store Mailing List              1108\n",
       "Loyalty Club Only                579\n",
       "Credit Card Only                 494\n",
       "Loyalty Club and Credit Card     194\n",
       "Name: Customer_Segment, dtype: int64"
      ]
     },
     "execution_count": 12,
     "metadata": {},
     "output_type": "execute_result"
    }
   ],
   "source": [
    "# Check to see the individual values in the customer segement\n",
    "cust_df.Customer_Segment.value_counts()"
   ]
  },
  {
   "cell_type": "markdown",
   "id": "58997c02",
   "metadata": {},
   "source": [
    "The Customer_Segment should be a categorical type"
   ]
  },
  {
   "cell_type": "code",
   "execution_count": 10,
   "id": "51fd0fe1",
   "metadata": {
    "scrolled": true
   },
   "outputs": [
    {
     "name": "stdout",
     "output_type": "stream",
     "text": [
      "Denver               750\n",
      "Aurora               493\n",
      "Arvada               247\n",
      "Lakewood             217\n",
      "Broomfield           125\n",
      "Westminster           85\n",
      "Centennial            78\n",
      "Littleton             72\n",
      "Englewood             56\n",
      "Wheat Ridge           54\n",
      "Thornton              35\n",
      "Parker                27\n",
      "Northglenn            24\n",
      "Highlands Ranch       23\n",
      "Golden                19\n",
      "Greenwood Village     14\n",
      "Edgewater             12\n",
      "Commerce City         10\n",
      "Superior               9\n",
      "Morrison               7\n",
      "Lafayette              5\n",
      "Louisville             4\n",
      "Boulder                3\n",
      "Castle Pines           2\n",
      "Brighton               2\n",
      "Lone Tree              1\n",
      "Henderson              1\n",
      "Name: City, dtype: int64\n"
     ]
    },
    {
     "data": {
      "text/plain": [
       "27"
      ]
     },
     "execution_count": 10,
     "metadata": {},
     "output_type": "execute_result"
    }
   ],
   "source": [
    "# check the number of cities present\n",
    "print(cust_df.City.value_counts())\n",
    "len(cust_df.City.value_counts())"
   ]
  },
  {
   "cell_type": "code",
   "execution_count": 35,
   "id": "fe86c61e",
   "metadata": {},
   "outputs": [
    {
     "data": {
      "text/plain": [
       "CO    2375\n",
       "Name: State, dtype: int64"
      ]
     },
     "execution_count": 35,
     "metadata": {},
     "output_type": "execute_result"
    }
   ],
   "source": [
    "#  whether there are omre than one state represented in the dataset \n",
    "cust_df.State.value_counts()"
   ]
  },
  {
   "cell_type": "markdown",
   "id": "0cc04a97",
   "metadata": {},
   "source": [
    "The state variable can be removed, since all the data are from just one state "
   ]
  },
  {
   "cell_type": "code",
   "execution_count": 11,
   "id": "6067bb28",
   "metadata": {},
   "outputs": [
    {
     "data": {
      "text/plain": [
       "80013    127\n",
       "80219     93\n",
       "80015     90\n",
       "80012     88\n",
       "80020     87\n",
       "80004     80\n",
       "80226     71\n",
       "80014     71\n",
       "80005     71\n",
       "80247     57\n",
       "Name: ZIP, dtype: int64"
      ]
     },
     "execution_count": 11,
     "metadata": {},
     "output_type": "execute_result"
    }
   ],
   "source": [
    "#checking the number of zip codes that exist in the dataset\n",
    "cust_df.ZIP.value_counts().head(10)"
   ]
  },
  {
   "cell_type": "markdown",
   "id": "506aee7b",
   "metadata": {},
   "source": [
    "There are 86 zipcodes in the dataset"
   ]
  },
  {
   "cell_type": "code",
   "execution_count": 37,
   "id": "24dc896c",
   "metadata": {},
   "outputs": [
    {
     "name": "stdout",
     "output_type": "stream",
     "text": [
      "<class 'pandas.core.frame.DataFrame'>\n",
      "RangeIndex: 2375 entries, 0 to 2374\n",
      "Data columns (total 12 columns):\n",
      " #   Column                      Non-Null Count  Dtype  \n",
      "---  ------                      --------------  -----  \n",
      " 0   Name                        2375 non-null   object \n",
      " 1   Customer_Segment            2375 non-null   object \n",
      " 2   Customer_ID                 2375 non-null   int64  \n",
      " 3   Address                     2375 non-null   object \n",
      " 4   City                        2375 non-null   object \n",
      " 5   State                       2375 non-null   object \n",
      " 6   ZIP                         2375 non-null   int64  \n",
      " 7   Avg_Sale_Amount             2375 non-null   float64\n",
      " 8   Store_Number                2375 non-null   int64  \n",
      " 9   Responded_to_Last_Catalog   2375 non-null   object \n",
      " 10  Avg_Num_Products_Purchased  2375 non-null   int64  \n",
      " 11  #_Years_as_Customer         2375 non-null   int64  \n",
      "dtypes: float64(1), int64(5), object(6)\n",
      "memory usage: 222.8+ KB\n"
     ]
    }
   ],
   "source": [
    "cust_df.info()"
   ]
  },
  {
   "cell_type": "code",
   "execution_count": 12,
   "id": "0a86f122",
   "metadata": {
    "scrolled": true
   },
   "outputs": [
    {
     "name": "stdout",
     "output_type": "stream",
     "text": [
      "100    326\n",
      "102     85\n",
      "104    270\n",
      "106    283\n",
      "108    210\n",
      "101    276\n",
      "103    225\n",
      "105    305\n",
      "107    226\n",
      "109    169\n",
      "Name: Store_Number, dtype: int64\n"
     ]
    },
    {
     "data": {
      "text/plain": [
       "10"
      ]
     },
     "execution_count": 12,
     "metadata": {},
     "output_type": "execute_result"
    }
   ],
   "source": [
    "print(cust_df.Store_Number.value_counts(sort=False))\n",
    "len(cust_df.Store_Number.value_counts(sort=False))"
   ]
  },
  {
   "cell_type": "markdown",
   "id": "e66b2dad",
   "metadata": {},
   "source": [
    "There are 10 stores in the data"
   ]
  },
  {
   "cell_type": "code",
   "execution_count": 40,
   "id": "a1364e82",
   "metadata": {},
   "outputs": [
    {
     "data": {
      "text/plain": [
       "No     2204\n",
       "Yes     171\n",
       "Name: Responded_to_Last_Catalog, dtype: int64"
      ]
     },
     "execution_count": 40,
     "metadata": {},
     "output_type": "execute_result"
    }
   ],
   "source": [
    "cust_df.Responded_to_Last_Catalog.value_counts()"
   ]
  },
  {
   "cell_type": "markdown",
   "id": "75260541",
   "metadata": {},
   "source": [
    "Most of the time, there is no response to last clatalog"
   ]
  },
  {
   "cell_type": "code",
   "execution_count": 41,
   "id": "38c30c91",
   "metadata": {},
   "outputs": [
    {
     "data": {
      "text/plain": [
       "1     858\n",
       "2     289\n",
       "3     277\n",
       "4     240\n",
       "5     235\n",
       "6     216\n",
       "7     164\n",
       "8      36\n",
       "11     10\n",
       "10      9\n",
       "12      8\n",
       "9       7\n",
       "16      7\n",
       "17      5\n",
       "15      3\n",
       "19      2\n",
       "21      2\n",
       "22      2\n",
       "13      1\n",
       "20      1\n",
       "18      1\n",
       "14      1\n",
       "26      1\n",
       "Name: Avg_Num_Products_Purchased, dtype: int64"
      ]
     },
     "execution_count": 41,
     "metadata": {},
     "output_type": "execute_result"
    }
   ],
   "source": [
    "cust_df.Avg_Num_Products_Purchased.value_counts()"
   ]
  },
  {
   "cell_type": "code",
   "execution_count": 48,
   "id": "c8e7fe25",
   "metadata": {},
   "outputs": [],
   "source": [
    "cust_df = cust_df.rename(columns={'#_Years_as_Customer': 'No_of_Years_as_Customer'})"
   ]
  },
  {
   "cell_type": "code",
   "execution_count": 53,
   "id": "f0b26821",
   "metadata": {},
   "outputs": [
    {
     "data": {
      "text/plain": [
       "Index(['Name', 'Customer_Segment', 'Customer_ID', 'Address', 'City', 'State',\n",
       "       'ZIP', 'Avg_Sale_Amount', 'Store_Number', 'Responded_to_Last_Catalog',\n",
       "       'Avg_Num_Products_Purchased', 'No_of_Years_as_Customer'],\n",
       "      dtype='object')"
      ]
     },
     "execution_count": 53,
     "metadata": {},
     "output_type": "execute_result"
    }
   ],
   "source": [
    "cust_df.columns"
   ]
  },
  {
   "cell_type": "code",
   "execution_count": 54,
   "id": "ad4dc575",
   "metadata": {
    "scrolled": true
   },
   "outputs": [
    {
     "data": {
      "text/plain": [
       "2    316\n",
       "8    313\n",
       "6    307\n",
       "1    297\n",
       "5    294\n",
       "3    285\n",
       "4    284\n",
       "7    279\n",
       "Name: No_of_Years_as_Customer, dtype: int64"
      ]
     },
     "execution_count": 54,
     "metadata": {},
     "output_type": "execute_result"
    }
   ],
   "source": [
    "cust_df.No_of_Years_as_Customer.value_counts()"
   ]
  },
  {
   "cell_type": "markdown",
   "id": "3d758a9a",
   "metadata": {},
   "source": [
    "## Data Cleaning\n",
    "#### Cleanliness issues\n",
    "* The Customer_Segment, Store_Number and Responded_to_Last_Catalog are wrongly saved as object instead of category\n",
    "#### Tidiness issues \n",
    "* The state and zip code are not important for this analysis\n"
   ]
  },
  {
   "cell_type": "markdown",
   "id": "bb6774cf",
   "metadata": {},
   "source": [
    "#### Define\n",
    "Change Customer_Segment, Store_Number and Responded_to_Last_Catalog to categorical types"
   ]
  },
  {
   "cell_type": "markdown",
   "id": "d5a7f792",
   "metadata": {},
   "source": [
    "#### Code"
   ]
  },
  {
   "cell_type": "code",
   "execution_count": 55,
   "id": "e5f7fa91",
   "metadata": {},
   "outputs": [],
   "source": [
    "col_names = ['Customer_Segment', 'Store_Number', 'Responded_to_Last_Catalog']\n",
    "for col in col_names:\n",
    "    cust_df[col] = cust_df[col].astype('category')"
   ]
  },
  {
   "cell_type": "markdown",
   "id": "961f14ba",
   "metadata": {},
   "source": [
    "#### Test"
   ]
  },
  {
   "cell_type": "code",
   "execution_count": 56,
   "id": "300605c9",
   "metadata": {},
   "outputs": [
    {
     "name": "stdout",
     "output_type": "stream",
     "text": [
      "<class 'pandas.core.frame.DataFrame'>\n",
      "RangeIndex: 2375 entries, 0 to 2374\n",
      "Data columns (total 12 columns):\n",
      " #   Column                      Non-Null Count  Dtype   \n",
      "---  ------                      --------------  -----   \n",
      " 0   Name                        2375 non-null   object  \n",
      " 1   Customer_Segment            2375 non-null   category\n",
      " 2   Customer_ID                 2375 non-null   int64   \n",
      " 3   Address                     2375 non-null   object  \n",
      " 4   City                        2375 non-null   object  \n",
      " 5   State                       2375 non-null   object  \n",
      " 6   ZIP                         2375 non-null   int64   \n",
      " 7   Avg_Sale_Amount             2375 non-null   float64 \n",
      " 8   Store_Number                2375 non-null   category\n",
      " 9   Responded_to_Last_Catalog   2375 non-null   category\n",
      " 10  Avg_Num_Products_Purchased  2375 non-null   int64   \n",
      " 11  No_of_Years_as_Customer     2375 non-null   int64   \n",
      "dtypes: category(3), float64(1), int64(4), object(4)\n",
      "memory usage: 174.8+ KB\n"
     ]
    }
   ],
   "source": [
    "cust_df.info()"
   ]
  },
  {
   "cell_type": "markdown",
   "id": "338c2919",
   "metadata": {},
   "source": [
    "#### Define\n",
    "Delete state and zip code from dataset"
   ]
  },
  {
   "cell_type": "markdown",
   "id": "043f2136",
   "metadata": {},
   "source": [
    "#### Code"
   ]
  },
  {
   "cell_type": "code",
   "execution_count": 60,
   "id": "e7e81af1",
   "metadata": {},
   "outputs": [],
   "source": [
    "cust_df = cust_df.drop(['State', 'ZIP'], axis = 1)"
   ]
  },
  {
   "cell_type": "markdown",
   "id": "50391411",
   "metadata": {},
   "source": [
    "#### Test"
   ]
  },
  {
   "cell_type": "code",
   "execution_count": 61,
   "id": "5165e8c2",
   "metadata": {},
   "outputs": [
    {
     "data": {
      "text/plain": [
       "Index(['Name', 'Customer_Segment', 'Customer_ID', 'Address', 'City',\n",
       "       'Avg_Sale_Amount', 'Store_Number', 'Responded_to_Last_Catalog',\n",
       "       'Avg_Num_Products_Purchased', 'No_of_Years_as_Customer'],\n",
       "      dtype='object')"
      ]
     },
     "execution_count": 61,
     "metadata": {},
     "output_type": "execute_result"
    }
   ],
   "source": [
    "cust_df.columns"
   ]
  },
  {
   "cell_type": "code",
   "execution_count": 62,
   "id": "5a4393e1",
   "metadata": {},
   "outputs": [
    {
     "data": {
      "text/html": [
       "<div>\n",
       "<style scoped>\n",
       "    .dataframe tbody tr th:only-of-type {\n",
       "        vertical-align: middle;\n",
       "    }\n",
       "\n",
       "    .dataframe tbody tr th {\n",
       "        vertical-align: top;\n",
       "    }\n",
       "\n",
       "    .dataframe thead th {\n",
       "        text-align: right;\n",
       "    }\n",
       "</style>\n",
       "<table border=\"1\" class=\"dataframe\">\n",
       "  <thead>\n",
       "    <tr style=\"text-align: right;\">\n",
       "      <th></th>\n",
       "      <th>Name</th>\n",
       "      <th>Customer_Segment</th>\n",
       "      <th>Customer_ID</th>\n",
       "      <th>Address</th>\n",
       "      <th>City</th>\n",
       "      <th>Avg_Sale_Amount</th>\n",
       "      <th>Store_Number</th>\n",
       "      <th>Responded_to_Last_Catalog</th>\n",
       "      <th>Avg_Num_Products_Purchased</th>\n",
       "      <th>No_of_Years_as_Customer</th>\n",
       "    </tr>\n",
       "  </thead>\n",
       "  <tbody>\n",
       "    <tr>\n",
       "      <th>1632</th>\n",
       "      <td>Medina Amaya</td>\n",
       "      <td>Loyalty Club Only</td>\n",
       "      <td>1856</td>\n",
       "      <td>3900 W 1st Ave</td>\n",
       "      <td>Denver</td>\n",
       "      <td>385.63</td>\n",
       "      <td>103</td>\n",
       "      <td>No</td>\n",
       "      <td>1</td>\n",
       "      <td>1</td>\n",
       "    </tr>\n",
       "    <tr>\n",
       "      <th>1687</th>\n",
       "      <td>Kristalyn Deeds</td>\n",
       "      <td>Loyalty Club Only</td>\n",
       "      <td>2143</td>\n",
       "      <td>3347 S Elkhart St</td>\n",
       "      <td>Aurora</td>\n",
       "      <td>322.06</td>\n",
       "      <td>104</td>\n",
       "      <td>No</td>\n",
       "      <td>3</td>\n",
       "      <td>4</td>\n",
       "    </tr>\n",
       "    <tr>\n",
       "      <th>84</th>\n",
       "      <td>Doris Hackworth</td>\n",
       "      <td>Store Mailing List</td>\n",
       "      <td>227</td>\n",
       "      <td>6775 W 19th Pl</td>\n",
       "      <td>Lakewood</td>\n",
       "      <td>34.98</td>\n",
       "      <td>106</td>\n",
       "      <td>No</td>\n",
       "      <td>1</td>\n",
       "      <td>7</td>\n",
       "    </tr>\n",
       "    <tr>\n",
       "      <th>2015</th>\n",
       "      <td>Jessica Radke</td>\n",
       "      <td>Credit Card Only</td>\n",
       "      <td>1085</td>\n",
       "      <td>7663 Saulsbury St</td>\n",
       "      <td>Arvada</td>\n",
       "      <td>738.60</td>\n",
       "      <td>107</td>\n",
       "      <td>No</td>\n",
       "      <td>8</td>\n",
       "      <td>3</td>\n",
       "    </tr>\n",
       "    <tr>\n",
       "      <th>2035</th>\n",
       "      <td>Manuela Basurto</td>\n",
       "      <td>Credit Card Only</td>\n",
       "      <td>1213</td>\n",
       "      <td>1863 Wazee St</td>\n",
       "      <td>Denver</td>\n",
       "      <td>652.10</td>\n",
       "      <td>106</td>\n",
       "      <td>No</td>\n",
       "      <td>7</td>\n",
       "      <td>1</td>\n",
       "    </tr>\n",
       "    <tr>\n",
       "      <th>755</th>\n",
       "      <td>Bobbi Korneychuk</td>\n",
       "      <td>Store Mailing List</td>\n",
       "      <td>2236</td>\n",
       "      <td>950 Garnet St</td>\n",
       "      <td>Broomfield</td>\n",
       "      <td>217.45</td>\n",
       "      <td>109</td>\n",
       "      <td>Yes</td>\n",
       "      <td>1</td>\n",
       "      <td>6</td>\n",
       "    </tr>\n",
       "    <tr>\n",
       "      <th>322</th>\n",
       "      <td>Irma Ochoa</td>\n",
       "      <td>Store Mailing List</td>\n",
       "      <td>866</td>\n",
       "      <td>11495 Canterberry Ln</td>\n",
       "      <td>Parker</td>\n",
       "      <td>217.92</td>\n",
       "      <td>102</td>\n",
       "      <td>Yes</td>\n",
       "      <td>4</td>\n",
       "      <td>4</td>\n",
       "    </tr>\n",
       "    <tr>\n",
       "      <th>14</th>\n",
       "      <td>Ann Balliett</td>\n",
       "      <td>Store Mailing List</td>\n",
       "      <td>40</td>\n",
       "      <td>8192 W 81st Dr</td>\n",
       "      <td>Arvada</td>\n",
       "      <td>209.30</td>\n",
       "      <td>103</td>\n",
       "      <td>Yes</td>\n",
       "      <td>1</td>\n",
       "      <td>5</td>\n",
       "    </tr>\n",
       "    <tr>\n",
       "      <th>1419</th>\n",
       "      <td>Tomasa Macias</td>\n",
       "      <td>Loyalty Club Only</td>\n",
       "      <td>689</td>\n",
       "      <td>10346 Hunterwood Way</td>\n",
       "      <td>Highlands Ranch</td>\n",
       "      <td>397.05</td>\n",
       "      <td>101</td>\n",
       "      <td>No</td>\n",
       "      <td>4</td>\n",
       "      <td>8</td>\n",
       "    </tr>\n",
       "    <tr>\n",
       "      <th>1804</th>\n",
       "      <td>Geraldine Warner</td>\n",
       "      <td>Loyalty Club Only</td>\n",
       "      <td>2899</td>\n",
       "      <td>5504 E Utah Pl</td>\n",
       "      <td>Denver</td>\n",
       "      <td>306.44</td>\n",
       "      <td>100</td>\n",
       "      <td>No</td>\n",
       "      <td>2</td>\n",
       "      <td>7</td>\n",
       "    </tr>\n",
       "  </tbody>\n",
       "</table>\n",
       "</div>"
      ],
      "text/plain": [
       "                  Name    Customer_Segment  Customer_ID               Address  \\\n",
       "1632      Medina Amaya   Loyalty Club Only         1856        3900 W 1st Ave   \n",
       "1687   Kristalyn Deeds   Loyalty Club Only         2143     3347 S Elkhart St   \n",
       "84     Doris Hackworth  Store Mailing List          227        6775 W 19th Pl   \n",
       "2015     Jessica Radke    Credit Card Only         1085     7663 Saulsbury St   \n",
       "2035   Manuela Basurto    Credit Card Only         1213         1863 Wazee St   \n",
       "755   Bobbi Korneychuk  Store Mailing List         2236         950 Garnet St   \n",
       "322         Irma Ochoa  Store Mailing List          866  11495 Canterberry Ln   \n",
       "14        Ann Balliett  Store Mailing List           40        8192 W 81st Dr   \n",
       "1419     Tomasa Macias   Loyalty Club Only          689  10346 Hunterwood Way   \n",
       "1804  Geraldine Warner   Loyalty Club Only         2899        5504 E Utah Pl   \n",
       "\n",
       "                 City  Avg_Sale_Amount Store_Number Responded_to_Last_Catalog  \\\n",
       "1632           Denver           385.63          103                        No   \n",
       "1687           Aurora           322.06          104                        No   \n",
       "84           Lakewood            34.98          106                        No   \n",
       "2015           Arvada           738.60          107                        No   \n",
       "2035           Denver           652.10          106                        No   \n",
       "755        Broomfield           217.45          109                       Yes   \n",
       "322            Parker           217.92          102                       Yes   \n",
       "14             Arvada           209.30          103                       Yes   \n",
       "1419  Highlands Ranch           397.05          101                        No   \n",
       "1804           Denver           306.44          100                        No   \n",
       "\n",
       "      Avg_Num_Products_Purchased  No_of_Years_as_Customer  \n",
       "1632                           1                        1  \n",
       "1687                           3                        4  \n",
       "84                             1                        7  \n",
       "2015                           8                        3  \n",
       "2035                           7                        1  \n",
       "755                            1                        6  \n",
       "322                            4                        4  \n",
       "14                             1                        5  \n",
       "1419                           4                        8  \n",
       "1804                           2                        7  "
      ]
     },
     "execution_count": 62,
     "metadata": {},
     "output_type": "execute_result"
    }
   ],
   "source": [
    "cust_df.sample(10)"
   ]
  },
  {
   "cell_type": "markdown",
   "id": "7a5e3156",
   "metadata": {},
   "source": [
    "### Interesting questions\n",
    "* Which category of customer segment has the highest average sale\n",
    "* Which of the city has the highest or the lowest average sale\n"
   ]
  },
  {
   "cell_type": "markdown",
   "id": "3eb09264",
   "metadata": {},
   "source": [
    "## Univariate exploration"
   ]
  },
  {
   "cell_type": "code",
   "execution_count": 69,
   "id": "0c2b7b8a",
   "metadata": {},
   "outputs": [
    {
     "data": {
      "image/png": "[encoded data removed]",
      "text/plain": [
       "<Figure size 432x288 with 1 Axes>"
      ]
     },
     "metadata": {
      "needs_background": "light"
     },
     "output_type": "display_data"
    }
   ],
   "source": [
    "base_color = sns.color_palette()[0]\n",
    "sns.countplot(data=cust_df, x = 'Customer_Segment', color=base_color);\n",
    "plt.xticks(rotation=45)\n",
    "plt.title('Customer Segment _____');"
   ]
  },
  {
   "cell_type": "markdown",
   "id": "9a3c61dc",
   "metadata": {},
   "source": [
    "The store mailing list has the highest transaction"
   ]
  },
  {
   "cell_type": "code",
   "execution_count": 86,
   "id": "867f8878",
   "metadata": {
    "scrolled": true
   },
   "outputs": [
    {
     "data": {
      "text/plain": [
       "Text(0, 0.5, 'City')"
      ]
     },
     "execution_count": 86,
     "metadata": {},
     "output_type": "execute_result"
    },
    {
     "data": {
      "image/png": "[encoded data removed]",
      "text/plain": [
       "<Figure size 720x360 with 1 Axes>"
      ]
     },
     "metadata": {
      "needs_background": "light"
     },
     "output_type": "display_data"
    }
   ],
   "source": [
    "# Viewing the first ten cities with purchase\n",
    "plt.figure(figsize=(10, 5))\n",
    "cust_df.City.value_counts().head(10).plot(kind='barh')\n",
    "plt.title('First 10 cities with highest purchase')\n",
    "plt.xlabel('Number of transactions')\n",
    "plt.ylabel('City');"
   ]
  },
  {
   "cell_type": "markdown",
   "id": "a959fb0c",
   "metadata": {},
   "source": [
    "Denver has the highest number of transactions"
   ]
  },
  {
   "cell_type": "code",
   "execution_count": 88,
   "id": "3b65fe2a",
   "metadata": {
    "scrolled": false
   },
   "outputs": [
    {
     "data": {
      "image/png": "[encoded data removed]",
      "text/plain": [
       "<Figure size 720x360 with 1 Axes>"
      ]
     },
     "metadata": {
      "needs_background": "light"
     },
     "output_type": "display_data"
    }
   ],
   "source": [
    "# Viewing the last ten cities with purchase\n",
    "plt.figure(figsize=(10, 5))\n",
    "cust_df.City.value_counts().tail(10).plot(kind='barh')\n",
    "plt.title('First 10 cities with lowest purchase')\n",
    "plt.xlabel('Number of transactions')\n",
    "plt.ylabel('City');"
   ]
  },
  {
   "cell_type": "markdown",
   "id": "d67bfde7",
   "metadata": {},
   "source": [
    "Lone tree has the lowest number of transactiona"
   ]
  },
  {
   "cell_type": "code",
   "execution_count": 102,
   "id": "1dcce18e",
   "metadata": {},
   "outputs": [
    {
     "data": {
      "image/png": "[encoded data removed]",
      "text/plain": [
       "<Figure size 432x288 with 1 Axes>"
      ]
     },
     "metadata": {
      "needs_background": "light"
     },
     "output_type": "display_data"
    }
   ],
   "source": [
    "set_bins = np.linspace(cust_df.Avg_Sale_Amount.min(), cust_df.Avg_Sale_Amount.max(), 10)\n",
    "sns.histplot(data=cust_df, x='Avg_Sale_Amount', bins=set_bins)\n",
    "plt.title('Distribution of average sale')\n",
    "plt.xlim(0,3000);"
   ]
  },
  {
   "cell_type": "markdown",
   "id": "e6d115f3",
   "metadata": {},
   "source": [
    "The distribution is right skewed, showing that there is posibility of outlier on the right"
   ]
  },
  {
   "cell_type": "code",
   "execution_count": 13,
   "id": "e7932851",
   "metadata": {
    "scrolled": false
   },
   "outputs": [
    {
     "data": {
      "image/png": "[encoded data removed]",
      "text/plain": [
       "<Figure size 576x288 with 1 Axes>"
      ]
     },
     "metadata": {
      "needs_background": "light"
     },
     "output_type": "display_data"
    }
   ],
   "source": [
    "plt.figure(figsize=(8, 4))\n",
    "cust_df.Store_Number.value_counts().plot(kind = 'bar')\n",
    "plt.xticks(rotation = 0)\n",
    "plt.title('Number of transactions per store')\n",
    "plt.xlabel('Store numbers')\n",
    "plt.ylabel('count');"
   ]
  },
  {
   "cell_type": "markdown",
   "id": "99ff0609",
   "metadata": {},
   "source": [
    "The number of transactions per store"
   ]
  },
  {
   "cell_type": "code",
   "execution_count": 15,
   "id": "c89f4b51",
   "metadata": {},
   "outputs": [
    {
     "data": {
      "image/png": "[encoded data removed]",
      "text/plain": [
       "<Figure size 432x288 with 1 Axes>"
      ]
     },
     "metadata": {},
     "output_type": "display_data"
    }
   ],
   "source": [
    "plt.pie(cust_df.Responded_to_Last_Catalog.value_counts(), labels = ['DId not respond', 'Responded '], autopct='%.0f%%' )\n",
    "plt.title(\"Proportion of people that responded to last catalog\");"
   ]
  },
  {
   "cell_type": "markdown",
   "id": "7b5d3120",
   "metadata": {},
   "source": [
    "There are more people that did not respond to their last catalog than those that attended to it"
   ]
  },
  {
   "cell_type": "code",
   "execution_count": 127,
   "id": "e490ac4d",
   "metadata": {},
   "outputs": [
    {
     "data": {
      "image/png": "[encoded data removed]",
      "text/plain": [
       "<Figure size 432x288 with 1 Axes>"
      ]
     },
     "metadata": {
      "needs_background": "light"
     },
     "output_type": "display_data"
    }
   ],
   "source": [
    "#set_bins = np.linspace(cust_df.Avg_Sale_Amount.min(), cust_df.Avg_Sale_Amount.max(), 10)\n",
    "sns.histplot(data=cust_df, x='Avg_Num_Products_Purchased', bins = 10)\n",
    "plt.title('Distribution of average number of products purchased')\n",
    "plt.xlim(0,30);"
   ]
  },
  {
   "cell_type": "markdown",
   "id": "0fd0bbb1",
   "metadata": {},
   "source": [
    "Most of the purchase made are between 1 and 8"
   ]
  },
  {
   "cell_type": "code",
   "execution_count": 144,
   "id": "91529646",
   "metadata": {
    "scrolled": true
   },
   "outputs": [
    {
     "data": {
      "image/png": "[encoded data removed]",
      "text/plain": [
       "<Figure size 432x288 with 1 Axes>"
      ]
     },
     "metadata": {
      "needs_background": "light"
     },
     "output_type": "display_data"
    }
   ],
   "source": [
    "#set_bins = np.arange(1, 9, 1)\n",
    "sns.countplot(data=cust_df, x='No_of_Years_as_Customer', color=base_color)\n",
    "plt.title('Distribution of number of years as customer');"
   ]
  },
  {
   "cell_type": "markdown",
   "id": "ceb9d91b",
   "metadata": {},
   "source": [
    "The difference in the different years are not so significant"
   ]
  },
  {
   "cell_type": "markdown",
   "id": "9db21894",
   "metadata": {},
   "source": [
    "## Bivariate Exploration"
   ]
  },
  {
   "cell_type": "code",
   "execution_count": null,
   "id": "4ba40873",
   "metadata": {},
   "outputs": [],
   "source": []
  }
 ],
 "metadata": {
  "kernelspec": {
   "display_name": "Python 3",
   "language": "python",
   "name": "python3"
  },
  "language_info": {
   "codemirror_mode": {
    "name": "ipython",
    "version": 3
   },
   "file_extension": ".py",
   "mimetype": "text/x-python",
   "name": "python",
   "nbconvert_exporter": "python",
   "pygments_lexer": "ipython3",
   "version": "3.8.8"
  }
 },
 "nbformat": 4,
 "nbformat_minor": 5
}
