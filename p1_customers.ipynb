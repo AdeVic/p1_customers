{
 "cells": [
  {
   "cell_type": "code",
   "execution_count": 2,
   "id": "e83f238d",
   "metadata": {},
   "outputs": [],
   "source": [
    "import numpy as np\n",
    "import pandas as pd\n",
    "import matplotlib.pyplot as plt\n",
    "import seaborn as sns\n",
    "%matplotlib inline"
   ]
  },
  {
   "cell_type": "code",
   "execution_count": 3,
   "id": "22c8eddd",
   "metadata": {},
   "outputs": [
    {
     "data": {
      "text/html": [
       "<div>\n",
       "<style scoped>\n",
       "    .dataframe tbody tr th:only-of-type {\n",
       "        vertical-align: middle;\n",
       "    }\n",
       "\n",
       "    .dataframe tbody tr th {\n",
       "        vertical-align: top;\n",
       "    }\n",
       "\n",
       "    .dataframe thead th {\n",
       "        text-align: right;\n",
       "    }\n",
       "</style>\n",
       "<table border=\"1\" class=\"dataframe\">\n",
       "  <thead>\n",
       "    <tr style=\"text-align: right;\">\n",
       "      <th></th>\n",
       "      <th>Name</th>\n",
       "      <th>Customer_Segment</th>\n",
       "      <th>Customer_ID</th>\n",
       "      <th>Address</th>\n",
       "      <th>City</th>\n",
       "      <th>State</th>\n",
       "      <th>ZIP</th>\n",
       "      <th>Avg_Sale_Amount</th>\n",
       "      <th>Store_Number</th>\n",
       "      <th>Responded_to_Last_Catalog</th>\n",
       "      <th>Avg_Num_Products_Purchased</th>\n",
       "      <th>#_Years_as_Customer</th>\n",
       "    </tr>\n",
       "  </thead>\n",
       "  <tbody>\n",
       "    <tr>\n",
       "      <th>337</th>\n",
       "      <td>Rosemarie Younger</td>\n",
       "      <td>Store Mailing List</td>\n",
       "      <td>927</td>\n",
       "      <td>5674 Kipling Pkwy</td>\n",
       "      <td>Arvada</td>\n",
       "      <td>CO</td>\n",
       "      <td>80002</td>\n",
       "      <td>204.58</td>\n",
       "      <td>109</td>\n",
       "      <td>No</td>\n",
       "      <td>1</td>\n",
       "      <td>1</td>\n",
       "    </tr>\n",
       "    <tr>\n",
       "      <th>1894</th>\n",
       "      <td>Ivonne Anzures</td>\n",
       "      <td>Credit Card Only</td>\n",
       "      <td>120</td>\n",
       "      <td>46093 Black Spruce Ln</td>\n",
       "      <td>Parker</td>\n",
       "      <td>CO</td>\n",
       "      <td>80138</td>\n",
       "      <td>567.03</td>\n",
       "      <td>102</td>\n",
       "      <td>No</td>\n",
       "      <td>5</td>\n",
       "      <td>2</td>\n",
       "    </tr>\n",
       "    <tr>\n",
       "      <th>1133</th>\n",
       "      <td>Katie Bundschu</td>\n",
       "      <td>Loyalty Club and Credit Card</td>\n",
       "      <td>380</td>\n",
       "      <td>9201 E Mississippi Ave</td>\n",
       "      <td>Denver</td>\n",
       "      <td>CO</td>\n",
       "      <td>80247</td>\n",
       "      <td>995.97</td>\n",
       "      <td>105</td>\n",
       "      <td>No</td>\n",
       "      <td>6</td>\n",
       "      <td>8</td>\n",
       "    </tr>\n",
       "    <tr>\n",
       "      <th>1354</th>\n",
       "      <td>Margo Traywick</td>\n",
       "      <td>Loyalty Club Only</td>\n",
       "      <td>291</td>\n",
       "      <td>1801 S Quay St</td>\n",
       "      <td>Lakewood</td>\n",
       "      <td>CO</td>\n",
       "      <td>80232</td>\n",
       "      <td>397.71</td>\n",
       "      <td>106</td>\n",
       "      <td>No</td>\n",
       "      <td>5</td>\n",
       "      <td>2</td>\n",
       "    </tr>\n",
       "    <tr>\n",
       "      <th>48</th>\n",
       "      <td>Diane Schweigerdt</td>\n",
       "      <td>Store Mailing List</td>\n",
       "      <td>137</td>\n",
       "      <td>5490 S Jasper Way</td>\n",
       "      <td>Centennial</td>\n",
       "      <td>CO</td>\n",
       "      <td>80015</td>\n",
       "      <td>126.72</td>\n",
       "      <td>104</td>\n",
       "      <td>No</td>\n",
       "      <td>1</td>\n",
       "      <td>8</td>\n",
       "    </tr>\n",
       "    <tr>\n",
       "      <th>1560</th>\n",
       "      <td>Kaleum Sayasavanh</td>\n",
       "      <td>Loyalty Club Only</td>\n",
       "      <td>1439</td>\n",
       "      <td>4326 W Center Ave</td>\n",
       "      <td>Denver</td>\n",
       "      <td>CO</td>\n",
       "      <td>80219</td>\n",
       "      <td>296.76</td>\n",
       "      <td>106</td>\n",
       "      <td>No</td>\n",
       "      <td>2</td>\n",
       "      <td>3</td>\n",
       "    </tr>\n",
       "    <tr>\n",
       "      <th>944</th>\n",
       "      <td>Tracy Acosta</td>\n",
       "      <td>Store Mailing List</td>\n",
       "      <td>2804</td>\n",
       "      <td>10063 W 81st Ln</td>\n",
       "      <td>Arvada</td>\n",
       "      <td>CO</td>\n",
       "      <td>80005</td>\n",
       "      <td>6.50</td>\n",
       "      <td>103</td>\n",
       "      <td>No</td>\n",
       "      <td>1</td>\n",
       "      <td>8</td>\n",
       "    </tr>\n",
       "    <tr>\n",
       "      <th>834</th>\n",
       "      <td>April Hammond</td>\n",
       "      <td>Store Mailing List</td>\n",
       "      <td>2488</td>\n",
       "      <td>1909 S Quebec Way</td>\n",
       "      <td>Denver</td>\n",
       "      <td>CO</td>\n",
       "      <td>80231</td>\n",
       "      <td>213.86</td>\n",
       "      <td>100</td>\n",
       "      <td>No</td>\n",
       "      <td>2</td>\n",
       "      <td>7</td>\n",
       "    </tr>\n",
       "    <tr>\n",
       "      <th>395</th>\n",
       "      <td>Alexis Aranda</td>\n",
       "      <td>Store Mailing List</td>\n",
       "      <td>1058</td>\n",
       "      <td>1282 S Troy St</td>\n",
       "      <td>Aurora</td>\n",
       "      <td>CO</td>\n",
       "      <td>80012</td>\n",
       "      <td>43.61</td>\n",
       "      <td>105</td>\n",
       "      <td>No</td>\n",
       "      <td>1</td>\n",
       "      <td>4</td>\n",
       "    </tr>\n",
       "    <tr>\n",
       "      <th>992</th>\n",
       "      <td>Galina Kotlyar</td>\n",
       "      <td>Store Mailing List</td>\n",
       "      <td>2944</td>\n",
       "      <td>6885 E Briarwood Dr</td>\n",
       "      <td>Centennial</td>\n",
       "      <td>CO</td>\n",
       "      <td>80112</td>\n",
       "      <td>181.94</td>\n",
       "      <td>101</td>\n",
       "      <td>No</td>\n",
       "      <td>1</td>\n",
       "      <td>5</td>\n",
       "    </tr>\n",
       "  </tbody>\n",
       "</table>\n",
       "</div>"
      ],
      "text/plain": [
       "                   Name              Customer_Segment  Customer_ID  \\\n",
       "337   Rosemarie Younger            Store Mailing List          927   \n",
       "1894     Ivonne Anzures              Credit Card Only          120   \n",
       "1133     Katie Bundschu  Loyalty Club and Credit Card          380   \n",
       "1354     Margo Traywick             Loyalty Club Only          291   \n",
       "48    Diane Schweigerdt            Store Mailing List          137   \n",
       "1560  Kaleum Sayasavanh             Loyalty Club Only         1439   \n",
       "944        Tracy Acosta            Store Mailing List         2804   \n",
       "834       April Hammond            Store Mailing List         2488   \n",
       "395       Alexis Aranda            Store Mailing List         1058   \n",
       "992      Galina Kotlyar            Store Mailing List         2944   \n",
       "\n",
       "                     Address        City State    ZIP  Avg_Sale_Amount  \\\n",
       "337        5674 Kipling Pkwy      Arvada    CO  80002           204.58   \n",
       "1894   46093 Black Spruce Ln      Parker    CO  80138           567.03   \n",
       "1133  9201 E Mississippi Ave      Denver    CO  80247           995.97   \n",
       "1354          1801 S Quay St    Lakewood    CO  80232           397.71   \n",
       "48         5490 S Jasper Way  Centennial    CO  80015           126.72   \n",
       "1560       4326 W Center Ave      Denver    CO  80219           296.76   \n",
       "944          10063 W 81st Ln      Arvada    CO  80005             6.50   \n",
       "834        1909 S Quebec Way      Denver    CO  80231           213.86   \n",
       "395           1282 S Troy St      Aurora    CO  80012            43.61   \n",
       "992      6885 E Briarwood Dr  Centennial    CO  80112           181.94   \n",
       "\n",
       "      Store_Number Responded_to_Last_Catalog  Avg_Num_Products_Purchased  \\\n",
       "337            109                        No                           1   \n",
       "1894           102                        No                           5   \n",
       "1133           105                        No                           6   \n",
       "1354           106                        No                           5   \n",
       "48             104                        No                           1   \n",
       "1560           106                        No                           2   \n",
       "944            103                        No                           1   \n",
       "834            100                        No                           2   \n",
       "395            105                        No                           1   \n",
       "992            101                        No                           1   \n",
       "\n",
       "      #_Years_as_Customer  \n",
       "337                     1  \n",
       "1894                    2  \n",
       "1133                    8  \n",
       "1354                    2  \n",
       "48                      8  \n",
       "1560                    3  \n",
       "944                     8  \n",
       "834                     7  \n",
       "395                     4  \n",
       "992                     5  "
      ]
     },
     "execution_count": 3,
     "metadata": {},
     "output_type": "execute_result"
    }
   ],
   "source": [
    "cust_df = pd.read_excel('./Dataset/p1-customers.xlsx')\n",
    "cust_df.sample(10)"
   ]
  },
  {
   "cell_type": "code",
   "execution_count": 4,
   "id": "dd241bad",
   "metadata": {},
   "outputs": [
    {
     "data": {
      "text/plain": [
       "CO    2375\n",
       "Name: State, dtype: int64"
      ]
     },
     "execution_count": 4,
     "metadata": {},
     "output_type": "execute_result"
    }
   ],
   "source": [
    "cust_df.State.value_counts()"
   ]
  },
  {
   "cell_type": "code",
   "execution_count": 5,
   "id": "433b762d",
   "metadata": {
    "scrolled": true
   },
   "outputs": [
    {
     "data": {
      "text/plain": [
       "Jane Nelson         2\n",
       "Rebecca Jones       2\n",
       "Linda Smith         2\n",
       "Jennifer Davis      2\n",
       "Jessie Ives         2\n",
       "Kelly Carlson       2\n",
       "Lynn Pacheco        2\n",
       "Maria Gonzalez      2\n",
       "Elizabeth Harris    2\n",
       "Blasa Ruiz          1\n",
       "Marcella Dressel    1\n",
       "Debra Parker        1\n",
       "Ramona Twiss        1\n",
       "Kyung Yun           1\n",
       "Katy Page           1\n",
       "Name: Name, dtype: int64"
      ]
     },
     "execution_count": 5,
     "metadata": {},
     "output_type": "execute_result"
    }
   ],
   "source": [
    "# check to see if there are some customers that buys a lot \n",
    "cust_df.Name.value_counts().head(15)"
   ]
  },
  {
   "cell_type": "code",
   "execution_count": 6,
   "id": "ffdeec7d",
   "metadata": {},
   "outputs": [],
   "source": [
    "# Chech to see if there is duplicated value in the dataset\n",
    "assert cust_df.duplicated().sum() == 0"
   ]
  },
  {
   "cell_type": "code",
   "execution_count": 7,
   "id": "d73fad86",
   "metadata": {},
   "outputs": [],
   "source": [
    "# Check to see if there is any null value in any of the rows\n",
    "assert cust_df.isnull().any(axis=1).sum() == 0"
   ]
  },
  {
   "cell_type": "code",
   "execution_count": 8,
   "id": "ed86366f",
   "metadata": {},
   "outputs": [
    {
     "data": {
      "text/plain": [
       "Store Mailing List              1108\n",
       "Loyalty Club Only                579\n",
       "Credit Card Only                 494\n",
       "Loyalty Club and Credit Card     194\n",
       "Name: Customer_Segment, dtype: int64"
      ]
     },
     "execution_count": 8,
     "metadata": {},
     "output_type": "execute_result"
    }
   ],
   "source": [
    "# Check to see the individual values in the customer segement\n",
    "cust_df.Customer_Segment.value_counts()"
   ]
  },
  {
   "cell_type": "markdown",
   "id": "58997c02",
   "metadata": {},
   "source": [
    "The Customer_Segment should be a categorical type"
   ]
  },
  {
   "cell_type": "code",
   "execution_count": 9,
   "id": "51fd0fe1",
   "metadata": {
    "scrolled": true
   },
   "outputs": [
    {
     "name": "stdout",
     "output_type": "stream",
     "text": [
      "Denver               750\n",
      "Aurora               493\n",
      "Arvada               247\n",
      "Lakewood             217\n",
      "Broomfield           125\n",
      "Westminster           85\n",
      "Centennial            78\n",
      "Littleton             72\n",
      "Englewood             56\n",
      "Wheat Ridge           54\n",
      "Thornton              35\n",
      "Parker                27\n",
      "Northglenn            24\n",
      "Highlands Ranch       23\n",
      "Golden                19\n",
      "Greenwood Village     14\n",
      "Edgewater             12\n",
      "Commerce City         10\n",
      "Superior               9\n",
      "Morrison               7\n",
      "Lafayette              5\n",
      "Louisville             4\n",
      "Boulder                3\n",
      "Brighton               2\n",
      "Castle Pines           2\n",
      "Lone Tree              1\n",
      "Henderson              1\n",
      "Name: City, dtype: int64\n"
     ]
    },
    {
     "data": {
      "text/plain": [
       "27"
      ]
     },
     "execution_count": 9,
     "metadata": {},
     "output_type": "execute_result"
    }
   ],
   "source": [
    "# check the number of cities present\n",
    "print(cust_df.City.value_counts())\n",
    "len(cust_df.City.value_counts())"
   ]
  },
  {
   "cell_type": "code",
   "execution_count": 10,
   "id": "fe86c61e",
   "metadata": {},
   "outputs": [
    {
     "data": {
      "text/plain": [
       "CO    2375\n",
       "Name: State, dtype: int64"
      ]
     },
     "execution_count": 10,
     "metadata": {},
     "output_type": "execute_result"
    }
   ],
   "source": [
    "#  whether there are omre than one state represented in the dataset \n",
    "cust_df.State.value_counts()"
   ]
  },
  {
   "cell_type": "markdown",
   "id": "0cc04a97",
   "metadata": {},
   "source": [
    "The state variable can be removed, since all the data are from just one state "
   ]
  },
  {
   "cell_type": "code",
   "execution_count": 11,
   "id": "6067bb28",
   "metadata": {},
   "outputs": [
    {
     "data": {
      "text/plain": [
       "80013    127\n",
       "80219     93\n",
       "80015     90\n",
       "80012     88\n",
       "80020     87\n",
       "80004     80\n",
       "80226     71\n",
       "80014     71\n",
       "80005     71\n",
       "80247     57\n",
       "Name: ZIP, dtype: int64"
      ]
     },
     "execution_count": 11,
     "metadata": {},
     "output_type": "execute_result"
    }
   ],
   "source": [
    "#checking the number of zip codes that exist in the dataset\n",
    "cust_df.ZIP.value_counts().head(10)"
   ]
  },
  {
   "cell_type": "markdown",
   "id": "506aee7b",
   "metadata": {},
   "source": [
    "There are 86 zipcodes in the dataset"
   ]
  },
  {
   "cell_type": "code",
   "execution_count": 12,
   "id": "24dc896c",
   "metadata": {},
   "outputs": [
    {
     "name": "stdout",
     "output_type": "stream",
     "text": [
      "<class 'pandas.core.frame.DataFrame'>\n",
      "RangeIndex: 2375 entries, 0 to 2374\n",
      "Data columns (total 12 columns):\n",
      " #   Column                      Non-Null Count  Dtype  \n",
      "---  ------                      --------------  -----  \n",
      " 0   Name                        2375 non-null   object \n",
      " 1   Customer_Segment            2375 non-null   object \n",
      " 2   Customer_ID                 2375 non-null   int64  \n",
      " 3   Address                     2375 non-null   object \n",
      " 4   City                        2375 non-null   object \n",
      " 5   State                       2375 non-null   object \n",
      " 6   ZIP                         2375 non-null   int64  \n",
      " 7   Avg_Sale_Amount             2375 non-null   float64\n",
      " 8   Store_Number                2375 non-null   int64  \n",
      " 9   Responded_to_Last_Catalog   2375 non-null   object \n",
      " 10  Avg_Num_Products_Purchased  2375 non-null   int64  \n",
      " 11  #_Years_as_Customer         2375 non-null   int64  \n",
      "dtypes: float64(1), int64(5), object(6)\n",
      "memory usage: 222.8+ KB\n"
     ]
    }
   ],
   "source": [
    "cust_df.info()"
   ]
  },
  {
   "cell_type": "code",
   "execution_count": 13,
   "id": "0a86f122",
   "metadata": {
    "scrolled": true
   },
   "outputs": [
    {
     "name": "stdout",
     "output_type": "stream",
     "text": [
      "100    326\n",
      "102     85\n",
      "104    270\n",
      "106    283\n",
      "108    210\n",
      "101    276\n",
      "103    225\n",
      "105    305\n",
      "107    226\n",
      "109    169\n",
      "Name: Store_Number, dtype: int64\n"
     ]
    },
    {
     "data": {
      "text/plain": [
       "10"
      ]
     },
     "execution_count": 13,
     "metadata": {},
     "output_type": "execute_result"
    }
   ],
   "source": [
    "print(cust_df.Store_Number.value_counts(sort=False))\n",
    "len(cust_df.Store_Number.value_counts(sort=False))"
   ]
  },
  {
   "cell_type": "markdown",
   "id": "e66b2dad",
   "metadata": {},
   "source": [
    "There are 10 stores in the data"
   ]
  },
  {
   "cell_type": "code",
   "execution_count": 14,
   "id": "a1364e82",
   "metadata": {},
   "outputs": [
    {
     "data": {
      "text/plain": [
       "No     2204\n",
       "Yes     171\n",
       "Name: Responded_to_Last_Catalog, dtype: int64"
      ]
     },
     "execution_count": 14,
     "metadata": {},
     "output_type": "execute_result"
    }
   ],
   "source": [
    "cust_df.Responded_to_Last_Catalog.value_counts()"
   ]
  },
  {
   "cell_type": "markdown",
   "id": "75260541",
   "metadata": {},
   "source": [
    "Most of the time, there is no response to last clatalog"
   ]
  },
  {
   "cell_type": "code",
   "execution_count": 15,
   "id": "38c30c91",
   "metadata": {},
   "outputs": [
    {
     "data": {
      "text/plain": [
       "1     858\n",
       "2     289\n",
       "3     277\n",
       "4     240\n",
       "5     235\n",
       "6     216\n",
       "7     164\n",
       "8      36\n",
       "11     10\n",
       "10      9\n",
       "12      8\n",
       "9       7\n",
       "16      7\n",
       "17      5\n",
       "15      3\n",
       "19      2\n",
       "21      2\n",
       "22      2\n",
       "13      1\n",
       "20      1\n",
       "18      1\n",
       "14      1\n",
       "26      1\n",
       "Name: Avg_Num_Products_Purchased, dtype: int64"
      ]
     },
     "execution_count": 15,
     "metadata": {},
     "output_type": "execute_result"
    }
   ],
   "source": [
    "cust_df.Avg_Num_Products_Purchased.value_counts()"
   ]
  },
  {
   "cell_type": "code",
   "execution_count": 16,
   "id": "c8e7fe25",
   "metadata": {},
   "outputs": [],
   "source": [
    "cust_df = cust_df.rename(columns={'#_Years_as_Customer': 'No_of_Years_as_Customer'})"
   ]
  },
  {
   "cell_type": "code",
   "execution_count": 17,
   "id": "f0b26821",
   "metadata": {},
   "outputs": [
    {
     "data": {
      "text/plain": [
       "Index(['Name', 'Customer_Segment', 'Customer_ID', 'Address', 'City', 'State',\n",
       "       'ZIP', 'Avg_Sale_Amount', 'Store_Number', 'Responded_to_Last_Catalog',\n",
       "       'Avg_Num_Products_Purchased', 'No_of_Years_as_Customer'],\n",
       "      dtype='object')"
      ]
     },
     "execution_count": 17,
     "metadata": {},
     "output_type": "execute_result"
    }
   ],
   "source": [
    "cust_df.columns"
   ]
  },
  {
   "cell_type": "code",
   "execution_count": 18,
   "id": "ad4dc575",
   "metadata": {
    "scrolled": true
   },
   "outputs": [
    {
     "data": {
      "text/plain": [
       "2    316\n",
       "8    313\n",
       "6    307\n",
       "1    297\n",
       "5    294\n",
       "3    285\n",
       "4    284\n",
       "7    279\n",
       "Name: No_of_Years_as_Customer, dtype: int64"
      ]
     },
     "execution_count": 18,
     "metadata": {},
     "output_type": "execute_result"
    }
   ],
   "source": [
    "cust_df.No_of_Years_as_Customer.value_counts()"
   ]
  },
  {
   "cell_type": "markdown",
   "id": "3d758a9a",
   "metadata": {},
   "source": [
    "## Data Cleaning\n",
    "#### Cleanliness issues\n",
    "* The Customer_Segment, Store_Number and Responded_to_Last_Catalog are wrongly saved as object instead of category\n",
    "#### Tidiness issues \n",
    "* The state and zip code are not important for this analysis\n"
   ]
  },
  {
   "cell_type": "markdown",
   "id": "bb6774cf",
   "metadata": {},
   "source": [
    "#### Define\n",
    "Change Customer_Segment, Store_Number and Responded_to_Last_Catalog to categorical types"
   ]
  },
  {
   "cell_type": "markdown",
   "id": "d5a7f792",
   "metadata": {},
   "source": [
    "#### Code"
   ]
  },
  {
   "cell_type": "code",
   "execution_count": 19,
   "id": "e5f7fa91",
   "metadata": {},
   "outputs": [],
   "source": [
    "col_names = ['Customer_Segment', 'Store_Number', 'Responded_to_Last_Catalog']\n",
    "for col in col_names:\n",
    "    cust_df[col] = cust_df[col].astype('category')"
   ]
  },
  {
   "cell_type": "markdown",
   "id": "961f14ba",
   "metadata": {},
   "source": [
    "#### Test"
   ]
  },
  {
   "cell_type": "code",
   "execution_count": 20,
   "id": "300605c9",
   "metadata": {},
   "outputs": [
    {
     "name": "stdout",
     "output_type": "stream",
     "text": [
      "<class 'pandas.core.frame.DataFrame'>\n",
      "RangeIndex: 2375 entries, 0 to 2374\n",
      "Data columns (total 12 columns):\n",
      " #   Column                      Non-Null Count  Dtype   \n",
      "---  ------                      --------------  -----   \n",
      " 0   Name                        2375 non-null   object  \n",
      " 1   Customer_Segment            2375 non-null   category\n",
      " 2   Customer_ID                 2375 non-null   int64   \n",
      " 3   Address                     2375 non-null   object  \n",
      " 4   City                        2375 non-null   object  \n",
      " 5   State                       2375 non-null   object  \n",
      " 6   ZIP                         2375 non-null   int64   \n",
      " 7   Avg_Sale_Amount             2375 non-null   float64 \n",
      " 8   Store_Number                2375 non-null   category\n",
      " 9   Responded_to_Last_Catalog   2375 non-null   category\n",
      " 10  Avg_Num_Products_Purchased  2375 non-null   int64   \n",
      " 11  No_of_Years_as_Customer     2375 non-null   int64   \n",
      "dtypes: category(3), float64(1), int64(4), object(4)\n",
      "memory usage: 174.8+ KB\n"
     ]
    }
   ],
   "source": [
    "cust_df.info()"
   ]
  },
  {
   "cell_type": "markdown",
   "id": "338c2919",
   "metadata": {},
   "source": [
    "#### Define\n",
    "Delete state from dataset"
   ]
  },
  {
   "cell_type": "markdown",
   "id": "043f2136",
   "metadata": {},
   "source": [
    "#### Code"
   ]
  },
  {
   "cell_type": "code",
   "execution_count": 21,
   "id": "e7e81af1",
   "metadata": {},
   "outputs": [],
   "source": [
    "cust_df = cust_df.drop(['State'], axis = 1)"
   ]
  },
  {
   "cell_type": "markdown",
   "id": "50391411",
   "metadata": {},
   "source": [
    "#### Test"
   ]
  },
  {
   "cell_type": "code",
   "execution_count": 22,
   "id": "5165e8c2",
   "metadata": {},
   "outputs": [
    {
     "data": {
      "text/plain": [
       "Index(['Name', 'Customer_Segment', 'Customer_ID', 'Address', 'City', 'ZIP',\n",
       "       'Avg_Sale_Amount', 'Store_Number', 'Responded_to_Last_Catalog',\n",
       "       'Avg_Num_Products_Purchased', 'No_of_Years_as_Customer'],\n",
       "      dtype='object')"
      ]
     },
     "execution_count": 22,
     "metadata": {},
     "output_type": "execute_result"
    }
   ],
   "source": [
    "cust_df.columns"
   ]
  },
  {
   "cell_type": "code",
   "execution_count": 22,
   "id": "5a4393e1",
   "metadata": {},
   "outputs": [
    {
     "data": {
      "text/html": [
       "<div>\n",
       "<style scoped>\n",
       "    .dataframe tbody tr th:only-of-type {\n",
       "        vertical-align: middle;\n",
       "    }\n",
       "\n",
       "    .dataframe tbody tr th {\n",
       "        vertical-align: top;\n",
       "    }\n",
       "\n",
       "    .dataframe thead th {\n",
       "        text-align: right;\n",
       "    }\n",
       "</style>\n",
       "<table border=\"1\" class=\"dataframe\">\n",
       "  <thead>\n",
       "    <tr style=\"text-align: right;\">\n",
       "      <th></th>\n",
       "      <th>Name</th>\n",
       "      <th>Customer_Segment</th>\n",
       "      <th>Customer_ID</th>\n",
       "      <th>Address</th>\n",
       "      <th>City</th>\n",
       "      <th>Avg_Sale_Amount</th>\n",
       "      <th>Store_Number</th>\n",
       "      <th>Responded_to_Last_Catalog</th>\n",
       "      <th>Avg_Num_Products_Purchased</th>\n",
       "      <th>No_of_Years_as_Customer</th>\n",
       "    </tr>\n",
       "  </thead>\n",
       "  <tbody>\n",
       "    <tr>\n",
       "      <th>1614</th>\n",
       "      <td>Lazara Soto</td>\n",
       "      <td>Loyalty Club Only</td>\n",
       "      <td>1772</td>\n",
       "      <td>11809 E Harvard Ave</td>\n",
       "      <td>Aurora</td>\n",
       "      <td>462.53</td>\n",
       "      <td>104</td>\n",
       "      <td>No</td>\n",
       "      <td>5</td>\n",
       "      <td>3</td>\n",
       "    </tr>\n",
       "    <tr>\n",
       "      <th>1499</th>\n",
       "      <td>Jeanette Bustos</td>\n",
       "      <td>Loyalty Club Only</td>\n",
       "      <td>1135</td>\n",
       "      <td>1473 S Otis St</td>\n",
       "      <td>Lakewood</td>\n",
       "      <td>392.29</td>\n",
       "      <td>106</td>\n",
       "      <td>No</td>\n",
       "      <td>1</td>\n",
       "      <td>2</td>\n",
       "    </tr>\n",
       "    <tr>\n",
       "      <th>1503</th>\n",
       "      <td>Chantel Corkle</td>\n",
       "      <td>Loyalty Club Only</td>\n",
       "      <td>1145</td>\n",
       "      <td>1795 S Dawson Way</td>\n",
       "      <td>Aurora</td>\n",
       "      <td>296.96</td>\n",
       "      <td>104</td>\n",
       "      <td>No</td>\n",
       "      <td>3</td>\n",
       "      <td>2</td>\n",
       "    </tr>\n",
       "    <tr>\n",
       "      <th>1384</th>\n",
       "      <td>Margaret Baumann</td>\n",
       "      <td>Loyalty Club Only</td>\n",
       "      <td>482</td>\n",
       "      <td>1041 Cottonwood St</td>\n",
       "      <td>Broomfield</td>\n",
       "      <td>359.45</td>\n",
       "      <td>108</td>\n",
       "      <td>No</td>\n",
       "      <td>2</td>\n",
       "      <td>5</td>\n",
       "    </tr>\n",
       "    <tr>\n",
       "      <th>186</th>\n",
       "      <td>Veronica Decena</td>\n",
       "      <td>Store Mailing List</td>\n",
       "      <td>511</td>\n",
       "      <td>11191 W 17th Ave</td>\n",
       "      <td>Lakewood</td>\n",
       "      <td>243.03</td>\n",
       "      <td>108</td>\n",
       "      <td>Yes</td>\n",
       "      <td>1</td>\n",
       "      <td>3</td>\n",
       "    </tr>\n",
       "    <tr>\n",
       "      <th>1131</th>\n",
       "      <td>Jessie Ives</td>\n",
       "      <td>Loyalty Club and Credit Card</td>\n",
       "      <td>351</td>\n",
       "      <td>11973 E Ford Dr</td>\n",
       "      <td>Aurora</td>\n",
       "      <td>1124.95</td>\n",
       "      <td>105</td>\n",
       "      <td>No</td>\n",
       "      <td>7</td>\n",
       "      <td>5</td>\n",
       "    </tr>\n",
       "    <tr>\n",
       "      <th>1781</th>\n",
       "      <td>Ann Spera</td>\n",
       "      <td>Loyalty Club Only</td>\n",
       "      <td>2773</td>\n",
       "      <td>1470 S Quebec Way</td>\n",
       "      <td>Denver</td>\n",
       "      <td>286.76</td>\n",
       "      <td>100</td>\n",
       "      <td>No</td>\n",
       "      <td>3</td>\n",
       "      <td>5</td>\n",
       "    </tr>\n",
       "    <tr>\n",
       "      <th>1482</th>\n",
       "      <td>Val Salazar</td>\n",
       "      <td>Loyalty Club Only</td>\n",
       "      <td>1050</td>\n",
       "      <td>3636 Clay St</td>\n",
       "      <td>Denver</td>\n",
       "      <td>368.32</td>\n",
       "      <td>108</td>\n",
       "      <td>No</td>\n",
       "      <td>1</td>\n",
       "      <td>6</td>\n",
       "    </tr>\n",
       "    <tr>\n",
       "      <th>1180</th>\n",
       "      <td>Janet Kamerick</td>\n",
       "      <td>Loyalty Club and Credit Card</td>\n",
       "      <td>1161</td>\n",
       "      <td>9457 Brentwood St</td>\n",
       "      <td>Broomfield</td>\n",
       "      <td>206.64</td>\n",
       "      <td>108</td>\n",
       "      <td>No</td>\n",
       "      <td>2</td>\n",
       "      <td>1</td>\n",
       "    </tr>\n",
       "    <tr>\n",
       "      <th>482</th>\n",
       "      <td>Lillian Salazar</td>\n",
       "      <td>Store Mailing List</td>\n",
       "      <td>1325</td>\n",
       "      <td>8051 Parkland St</td>\n",
       "      <td>Broomfield</td>\n",
       "      <td>117.11</td>\n",
       "      <td>109</td>\n",
       "      <td>No</td>\n",
       "      <td>1</td>\n",
       "      <td>2</td>\n",
       "    </tr>\n",
       "  </tbody>\n",
       "</table>\n",
       "</div>"
      ],
      "text/plain": [
       "                  Name              Customer_Segment  Customer_ID  \\\n",
       "1614       Lazara Soto             Loyalty Club Only         1772   \n",
       "1499   Jeanette Bustos             Loyalty Club Only         1135   \n",
       "1503    Chantel Corkle             Loyalty Club Only         1145   \n",
       "1384  Margaret Baumann             Loyalty Club Only          482   \n",
       "186    Veronica Decena            Store Mailing List          511   \n",
       "1131       Jessie Ives  Loyalty Club and Credit Card          351   \n",
       "1781         Ann Spera             Loyalty Club Only         2773   \n",
       "1482       Val Salazar             Loyalty Club Only         1050   \n",
       "1180    Janet Kamerick  Loyalty Club and Credit Card         1161   \n",
       "482    Lillian Salazar            Store Mailing List         1325   \n",
       "\n",
       "                  Address        City  Avg_Sale_Amount Store_Number  \\\n",
       "1614  11809 E Harvard Ave      Aurora           462.53          104   \n",
       "1499       1473 S Otis St    Lakewood           392.29          106   \n",
       "1503    1795 S Dawson Way      Aurora           296.96          104   \n",
       "1384   1041 Cottonwood St  Broomfield           359.45          108   \n",
       "186      11191 W 17th Ave    Lakewood           243.03          108   \n",
       "1131      11973 E Ford Dr      Aurora          1124.95          105   \n",
       "1781    1470 S Quebec Way      Denver           286.76          100   \n",
       "1482         3636 Clay St      Denver           368.32          108   \n",
       "1180    9457 Brentwood St  Broomfield           206.64          108   \n",
       "482      8051 Parkland St  Broomfield           117.11          109   \n",
       "\n",
       "     Responded_to_Last_Catalog  Avg_Num_Products_Purchased  \\\n",
       "1614                        No                           5   \n",
       "1499                        No                           1   \n",
       "1503                        No                           3   \n",
       "1384                        No                           2   \n",
       "186                        Yes                           1   \n",
       "1131                        No                           7   \n",
       "1781                        No                           3   \n",
       "1482                        No                           1   \n",
       "1180                        No                           2   \n",
       "482                         No                           1   \n",
       "\n",
       "      No_of_Years_as_Customer  \n",
       "1614                        3  \n",
       "1499                        2  \n",
       "1503                        2  \n",
       "1384                        5  \n",
       "186                         3  \n",
       "1131                        5  \n",
       "1781                        5  \n",
       "1482                        6  \n",
       "1180                        1  \n",
       "482                         2  "
      ]
     },
     "execution_count": 22,
     "metadata": {},
     "output_type": "execute_result"
    }
   ],
   "source": [
    "cust_df.sample(10)"
   ]
  },
  {
   "cell_type": "markdown",
   "id": "7a5e3156",
   "metadata": {},
   "source": [
    "### Interesting questions\n",
    "* Which category of customer segment has the highest average sale\n",
    "* Which of the city has the highest or the lowest average sale\n"
   ]
  },
  {
   "cell_type": "markdown",
   "id": "3eb09264",
   "metadata": {},
   "source": [
    "## Univariate exploration"
   ]
  },
  {
   "cell_type": "code",
   "execution_count": 23,
   "id": "0c2b7b8a",
   "metadata": {},
   "outputs": [
    {
     "data": {
      "image/png": "[encoded data removed]",
      "text/plain": [
       "<Figure size 432x288 with 1 Axes>"
      ]
     },
     "metadata": {
      "needs_background": "light"
     },
     "output_type": "display_data"
    }
   ],
   "source": [
    "base_color = sns.color_palette()[0]\n",
    "sns.countplot(data=cust_df, x = 'Customer_Segment', color=base_color);\n",
    "plt.xticks(rotation=45)\n",
    "plt.title('Customer Segment _____');"
   ]
  },
  {
   "cell_type": "markdown",
   "id": "9a3c61dc",
   "metadata": {},
   "source": [
    "The store mailing list has the highest transaction"
   ]
  },
  {
   "cell_type": "code",
   "execution_count": 24,
   "id": "867f8878",
   "metadata": {
    "scrolled": true
   },
   "outputs": [
    {
     "data": {
      "image/png": "[encoded data removed]",
      "text/plain": [
       "<Figure size 720x360 with 1 Axes>"
      ]
     },
     "metadata": {
      "needs_background": "light"
     },
     "output_type": "display_data"
    }
   ],
   "source": [
    "# Viewing the first ten cities with purchase\n",
    "plt.figure(figsize=(10, 5))\n",
    "cust_df.City.value_counts().head(10).plot(kind='barh')\n",
    "plt.title('First 10 cities with highest purchase')\n",
    "plt.xlabel('Number of transactions')\n",
    "plt.ylabel('City');"
   ]
  },
  {
   "cell_type": "markdown",
   "id": "a959fb0c",
   "metadata": {},
   "source": [
    "Denver has the highest number of transactions"
   ]
  },
  {
   "cell_type": "code",
   "execution_count": 25,
   "id": "3b65fe2a",
   "metadata": {
    "scrolled": false
   },
   "outputs": [
    {
     "data": {
      "image/png": "[encoded data removed]",
      "text/plain": [
       "<Figure size 720x360 with 1 Axes>"
      ]
     },
     "metadata": {
      "needs_background": "light"
     },
     "output_type": "display_data"
    }
   ],
   "source": [
    "# Viewing the last ten cities with purchase\n",
    "plt.figure(figsize=(10, 5))\n",
    "cust_df.City.value_counts().tail(10).plot(kind='barh')\n",
    "plt.title('First 10 cities with lowest purchase')\n",
    "plt.xlabel('Number of transactions')\n",
    "plt.ylabel('City');"
   ]
  },
  {
   "cell_type": "markdown",
   "id": "d67bfde7",
   "metadata": {},
   "source": [
    "Lone tree has the lowest number of transactiona"
   ]
  },
  {
   "cell_type": "code",
   "execution_count": 26,
   "id": "1dcce18e",
   "metadata": {},
   "outputs": [
    {
     "data": {
      "image/png": "[encoded data removed]",
      "text/plain": [
       "<Figure size 432x288 with 1 Axes>"
      ]
     },
     "metadata": {
      "needs_background": "light"
     },
     "output_type": "display_data"
    }
   ],
   "source": [
    "set_bins = np.linspace(cust_df.Avg_Sale_Amount.min(), cust_df.Avg_Sale_Amount.max(), 10)\n",
    "sns.histplot(data=cust_df, x='Avg_Sale_Amount', bins=set_bins)\n",
    "plt.title('Distribution of average sale')\n",
    "plt.xlim(0,3000);"
   ]
  },
  {
   "cell_type": "markdown",
   "id": "e6d115f3",
   "metadata": {},
   "source": [
    "The distribution is right skewed, showing that there is posibility of outlier on the right"
   ]
  },
  {
   "cell_type": "code",
   "execution_count": 27,
   "id": "e7932851",
   "metadata": {
    "scrolled": false
   },
   "outputs": [
    {
     "data": {
      "image/png": "[encoded data removed]",
      "text/plain": [
       "<Figure size 576x288 with 1 Axes>"
      ]
     },
     "metadata": {
      "needs_background": "light"
     },
     "output_type": "display_data"
    }
   ],
   "source": [
    "plt.figure(figsize=(8, 4))\n",
    "cust_df.Store_Number.value_counts().plot(kind = 'bar')\n",
    "plt.xticks(rotation = 0)\n",
    "plt.title('Number of transactions per store')\n",
    "plt.xlabel('Store numbers')\n",
    "plt.ylabel('count');"
   ]
  },
  {
   "cell_type": "markdown",
   "id": "99ff0609",
   "metadata": {},
   "source": [
    "The number of transactions per store"
   ]
  },
  {
   "cell_type": "code",
   "execution_count": 28,
   "id": "c89f4b51",
   "metadata": {},
   "outputs": [
    {
     "data": {
      "image/png": "[encoded data removed]",
      "text/plain": [
       "<Figure size 432x288 with 1 Axes>"
      ]
     },
     "metadata": {},
     "output_type": "display_data"
    }
   ],
   "source": [
    "plt.pie(cust_df.Responded_to_Last_Catalog.value_counts(), labels = ['DId not respond', 'Responded '], autopct='%.0f%%' )\n",
    "plt.title(\"Proportion of people that responded to last catalog\");"
   ]
  },
  {
   "cell_type": "markdown",
   "id": "7b5d3120",
   "metadata": {},
   "source": [
    "There are more people that did not respond to their last catalog than those that attended to it"
   ]
  },
  {
   "cell_type": "code",
   "execution_count": 29,
   "id": "e490ac4d",
   "metadata": {},
   "outputs": [
    {
     "data": {
      "image/png": "[encoded data removed]",
      "text/plain": [
       "<Figure size 432x288 with 1 Axes>"
      ]
     },
     "metadata": {
      "needs_background": "light"
     },
     "output_type": "display_data"
    }
   ],
   "source": [
    "#set_bins = np.linspace(cust_df.Avg_Sale_Amount.min(), cust_df.Avg_Sale_Amount.max(), 10)\n",
    "sns.histplot(data=cust_df, x='Avg_Num_Products_Purchased', bins = 10)\n",
    "plt.title('Distribution of average number of products purchased')\n",
    "plt.xlim(0,30);"
   ]
  },
  {
   "cell_type": "markdown",
   "id": "0fd0bbb1",
   "metadata": {},
   "source": [
    "Most of the purchase made are between 1 and 8"
   ]
  },
  {
   "cell_type": "code",
   "execution_count": 30,
   "id": "91529646",
   "metadata": {
    "scrolled": true
   },
   "outputs": [
    {
     "data": {
      "image/png": "[encoded data removed]",
      "text/plain": [
       "<Figure size 432x288 with 1 Axes>"
      ]
     },
     "metadata": {
      "needs_background": "light"
     },
     "output_type": "display_data"
    }
   ],
   "source": [
    "#set_bins = np.arange(1, 9, 1)\n",
    "sns.countplot(data=cust_df, x='No_of_Years_as_Customer', color=base_color)\n",
    "plt.title('Distribution of number of years as customer');"
   ]
  },
  {
   "cell_type": "markdown",
   "id": "ceb9d91b",
   "metadata": {},
   "source": [
    "The difference in the different years are not so significant"
   ]
  },
  {
   "cell_type": "markdown",
   "id": "9db21894",
   "metadata": {},
   "source": [
    "## Bivariate Exploration"
   ]
  },
  {
   "cell_type": "code",
   "execution_count": 57,
   "id": "4ba40873",
   "metadata": {},
   "outputs": [
    {
     "data": {
      "text/plain": [
       "([0, 1, 2, 3],\n",
       " [Text(0, 0, ''), Text(0, 0, ''), Text(0, 0, ''), Text(0, 0, '')])"
      ]
     },
     "execution_count": 57,
     "metadata": {},
     "output_type": "execute_result"
    },
    {
     "data": {
      "image/png": "[encoded data removed]",
      "text/plain": [
       "<Figure size 432x288 with 1 Axes>"
      ]
     },
     "metadata": {
      "needs_background": "light"
     },
     "output_type": "display_data"
    }
   ],
   "source": [
    "plt.bar('Customer_Segment',  'Avg_Sale_Amount', data = cust_df )\n",
    "plt.xticks(rotation=90)\n"
   ]
  },
  {
   "cell_type": "code",
   "execution_count": 89,
   "id": "f4f3b35b",
   "metadata": {
    "scrolled": true
   },
   "outputs": [
    {
     "data": {
      "image/png": "[encoded data removed]",
      "text/plain": [
       "<Figure size 576x360 with 1 Axes>"
      ]
     },
     "metadata": {
      "needs_background": "light"
     },
     "output_type": "display_data"
    }
   ],
   "source": [
    "\n",
    "plt.figure(figsize=(8,5))\n",
    "sns.boxplot(data=cust_df, x='No_of_Years_as_Customer', y='Avg_Sale_Amount')\n",
    "plt.ylim(0,1500)\n",
    "plt.xlabel('Number of years as customer')\n",
    "plt.ylabel('Average sale amount')\n",
    "plt.title('Distribution of average sale in different customer years categories');"
   ]
  },
  {
   "cell_type": "code",
   "execution_count": 71,
   "id": "ceb206b7",
   "metadata": {},
   "outputs": [
    {
     "data": {
      "image/png": "[encoded data removed]",
      "text/plain": [
       "<Figure size 576x360 with 1 Axes>"
      ]
     },
     "metadata": {
      "needs_background": "light"
     },
     "output_type": "display_data"
    }
   ],
   "source": [
    "plt.figure(figsize=(8,5))\n",
    "sns.boxplot(data=cust_df, x='No_of_Years_as_Customer', y='Avg_Num_Products_Purchased')\n",
    "plt.ylim(0,15)\n",
    "plt.xlabel('Number of years as customer')\n",
    "plt.ylabel('Average number of products purchased')\n",
    "plt.title('Distribution of average sale in different customer years categories');"
   ]
  },
  {
   "cell_type": "markdown",
   "id": "6888633f",
   "metadata": {},
   "source": [
    "* Cutomers that have spent 3, 4, 4, 6, and 8 years have similar inter quartile range \n",
    "* Customers within the range of 1, 2, and 7 years have the lowest minimum number of purchase"
   ]
  },
  {
   "cell_type": "code",
   "execution_count": 82,
   "id": "a385a018",
   "metadata": {},
   "outputs": [
    {
     "data": {
      "image/png": "[encoded data removed]",
      "text/plain": [
       "<Figure size 432x288 with 2 Axes>"
      ]
     },
     "metadata": {
      "needs_background": "light"
     },
     "output_type": "display_data"
    }
   ],
   "source": [
    "plt.subplot(1, 2, 1)\n",
    "cust_df.groupby('No_of_Years_as_Customer').sum()['Avg_Sale_Amount'].plot(kind='bar')\n",
    "plt.xticks(rotation = 90)\n",
    "plt.title('Average Sale');\n",
    "\n",
    "plt.subplot(1, 2, 2)\n",
    "cust_df.groupby('No_of_Years_as_Customer').count()['Avg_Sale_Amount'].plot(kind='bar')\n",
    "plt.xticks(rotation = 90)\n",
    "plt.title('Num of Transactions');"
   ]
  },
  {
   "cell_type": "code",
   "execution_count": 80,
   "id": "eab61a99",
   "metadata": {
    "scrolled": true
   },
   "outputs": [
    {
     "data": {
      "image/png": "[encoded data removed]",
      "text/plain": [
       "<Figure size 576x360 with 1 Axes>"
      ]
     },
     "metadata": {
      "needs_background": "light"
     },
     "output_type": "display_data"
    }
   ],
   "source": [
    "plt.figure(figsize=(8,5))\n",
    "sns.scatterplot(data=cust_df, x='Avg_Sale_Amount', y='Avg_Num_Products_Purchased')\n",
    "plt.ylim(0,15)\n",
    "plt.xlabel('Average sale amount')\n",
    "plt.ylabel('Average number of products purchased ')\n",
    "plt.title('Scapper plot of average sale and average number of products purchased');"
   ]
  },
  {
   "cell_type": "markdown",
   "id": "6b8c9182",
   "metadata": {},
   "source": [
    "* Average sale amount increses with average umber of products purchased. \n",
    "* This looks intuitive enough"
   ]
  },
  {
   "cell_type": "markdown",
   "id": "e758f8db",
   "metadata": {},
   "source": [
    "Although there are more people in the store mailing list, the loyalty club has more purchasing power than the store mailing list"
   ]
  },
  {
   "cell_type": "code",
   "execution_count": 43,
   "id": "c1f25a81",
   "metadata": {},
   "outputs": [
    {
     "data": {
      "text/plain": [
       "Customer_Segment\n",
       "Credit Card Only                 494\n",
       "Loyalty Club Only                579\n",
       "Loyalty Club and Credit Card     194\n",
       "Store Mailing List              1108\n",
       "Name: Avg_Sale_Amount, dtype: int64"
      ]
     },
     "execution_count": 43,
     "metadata": {},
     "output_type": "execute_result"
    }
   ],
   "source": [
    "cust_df.groupby('Customer_Segment').count()['Avg_Sale_Amount']\n"
   ]
  },
  {
   "cell_type": "code",
   "execution_count": 81,
   "id": "651a07c3",
   "metadata": {},
   "outputs": [
    {
     "data": {
      "image/png": "[encoded data removed]",
      "text/plain": [
       "<Figure size 432x288 with 2 Axes>"
      ]
     },
     "metadata": {
      "needs_background": "light"
     },
     "output_type": "display_data"
    }
   ],
   "source": [
    "plt.subplot(1, 2, 1)\n",
    "cust_df.groupby('Customer_Segment').sum()['Avg_Sale_Amount'].plot(kind='bar')\n",
    "plt.xticks(rotation = 90)\n",
    "plt.title('Average Sale');\n",
    "\n",
    "plt.subplot(1, 2, 2)\n",
    "cust_df.groupby('Customer_Segment').count()['Avg_Sale_Amount'].plot(kind='bar')\n",
    "plt.xticks(rotation = 90)\n",
    "plt.title('Num of Transactions');"
   ]
  },
  {
   "cell_type": "markdown",
   "id": "8e796cd6",
   "metadata": {},
   "source": [
    "* People with credit card pay more but they don't have the highest number of transactions\n",
    "* Although the customers on the store mailing list have the highest number of transactions, it does not translate to average sale"
   ]
  },
  {
   "cell_type": "code",
   "execution_count": 94,
   "id": "206fd8e5",
   "metadata": {
    "scrolled": true
   },
   "outputs": [
    {
     "data": {
      "image/png": "[encoded data removed]",
      "text/plain": [
       "<Figure size 576x288 with 1 Axes>"
      ]
     },
     "metadata": {
      "needs_background": "light"
     },
     "output_type": "display_data"
    }
   ],
   "source": [
    "plt.figure(figsize=(8, 4))\n",
    "sns.countplot(data=cust_df, x= 'Store_Number', hue='Responded_to_Last_Catalog')\n",
    "plt.xticks(rotation = 0)\n",
    "plt.title('Number of transactions per store')\n",
    "plt.xlabel('Store numbers')\n",
    "plt.ylabel('count');"
   ]
  },
  {
   "cell_type": "markdown",
   "id": "3c7adc34",
   "metadata": {},
   "source": [
    "* As expected the number of customers that attended to last catalog is lower that those that did not in all stores"
   ]
  },
  {
   "cell_type": "code",
   "execution_count": 96,
   "id": "420697ce",
   "metadata": {
    "scrolled": true
   },
   "outputs": [
    {
     "data": {
      "image/png": "[encoded data removed]",
      "text/plain": [
       "<Figure size 432x288 with 1 Axes>"
      ]
     },
     "metadata": {
      "needs_background": "light"
     },
     "output_type": "display_data"
    }
   ],
   "source": [
    "#set_bins = np.arange(1, 9, 1)\n",
    "sns.countplot(data=cust_df, x='No_of_Years_as_Customer', hue='Responded_to_Last_Catalog')\n",
    "plt.title('Distribution of number of years as customer');"
   ]
  },
  {
   "cell_type": "markdown",
   "id": "5ee9c71b",
   "metadata": {},
   "source": [
    "* As expected the number of customers that attended to last catalog is lower that those that did not among different number of years among customers"
   ]
  },
  {
   "cell_type": "code",
   "execution_count": null,
   "id": "52de0948",
   "metadata": {},
   "outputs": [],
   "source": []
  }
 ],
 "metadata": {
  "kernelspec": {
   "display_name": "Python 3",
   "language": "python",
   "name": "python3"
  },
  "language_info": {
   "codemirror_mode": {
    "name": "ipython",
    "version": 3
   },
   "file_extension": ".py",
   "mimetype": "text/x-python",
   "name": "python",
   "nbconvert_exporter": "python",
   "pygments_lexer": "ipython3",
   "version": "3.8.8"
  }
 },
 "nbformat": 4,
 "nbformat_minor": 5
}
